{
  "nbformat": 4,
  "nbformat_minor": 0,
  "metadata": {
    "colab": {
      "provenance": []
    },
    "kernelspec": {
      "name": "python3",
      "display_name": "Python 3"
    },
    "language_info": {
      "name": "python"
    }
  },
  "cells": [
    {
      "cell_type": "markdown",
      "source": [
        "Dynamic Pricing Notebook for Urban Parking\n",
        "Summer Analytics 2025 | CnA × Pathway"
      ],
      "metadata": {
        "id": "j9Rs7Q-JroGT"
      }
    },
    {
      "cell_type": "markdown",
      "source": [],
      "metadata": {
        "id": "5J2BL_ZAt0Xm"
      }
    },
    {
      "cell_type": "code",
      "source": [],
      "metadata": {
        "id": "ebkAjYfQqHTd"
      },
      "execution_count": null,
      "outputs": []
    },
    {
      "cell_type": "code",
      "source": [
        "# =======================\n",
        "# Dynamic Pricing Notebook for Urban Parking\n",
        "# Summer Analytics 2025 | CnA × Pathway\n",
        "# =======================\n",
        "\n",
        "# === Setup ===\n",
        "!pip install -q bokeh pathway\n",
        "\n",
        "import pandas as pd\n",
        "import numpy as np\n",
        "from bokeh.plotting import figure, show, output_notebook\n",
        "from bokeh.layouts import gridplot\n",
        "from bokeh.io import push_notebook\n",
        "import pathway as pw\n",
        "\n",
        "output_notebook()\n",
        "\n",
        "# === Load Dataset ===\n",
        "df = pd.read_csv('/content/dataset.csv')  # Upload your CSV to Colab\n",
        "\n",
        "# Preview data\n",
        "df.head()\n"
      ],
      "metadata": {
        "id": "z5vbWynYrwrH"
      },
      "execution_count": null,
      "outputs": []
    },
    {
      "cell_type": "markdown",
      "source": [
        "1. Data Exploration\n"
      ],
      "metadata": {
        "id": "WoHEAfzZrzoG"
      }
    },
    {
      "cell_type": "code",
      "source": [
        "print(\"Columns:\", df.columns.tolist())\n",
        "print(df.dtypes)\n",
        "print(\"Unique Locations:\", df['ParkingLotID'].nunique())  # assuming a column like this\n",
        "print(\"Time Range:\", df['Time'].min(), \"to\", df['Time'].max())\n"
      ],
      "metadata": {
        "id": "iJ5MF33yr4Zi"
      },
      "execution_count": null,
      "outputs": []
    },
    {
      "cell_type": "markdown",
      "source": [
        "2. Model 1: Baseline Linear Pricing"
      ],
      "metadata": {
        "id": "qhc4X_6cr6ZS"
      }
    },
    {
      "cell_type": "code",
      "source": [
        "# Set base price\n",
        "BASE_PRICE = 10.0\n",
        "ALPHA = 5.0  # Tuning parameter\n",
        "\n",
        "def baseline_pricing(occupancy, capacity, prev_price):\n",
        "    return prev_price + ALPHA * (occupancy / capacity)\n",
        "\n",
        "df['Price_Model1'] = BASE_PRICE\n",
        "\n",
        "# Apply model\n",
        "for i in range(1, len(df)):\n",
        "    prev_price = df.loc[i-1, 'Price_Model1']\n",
        "    occupancy = df.loc[i, 'Occupancy']\n",
        "    capacity = df.loc[i, 'Capacity']\n",
        "    df.loc[i, 'Price_Model1'] = baseline_pricing(occupancy, capacity, prev_price)\n",
        "\n",
        "df[['Time', 'Price_Model1']].head()\n"
      ],
      "metadata": {
        "id": "Yr_xl-ohr8vh"
      },
      "execution_count": null,
      "outputs": []
    },
    {
      "cell_type": "markdown",
      "source": [
        "3. Visualization with Bokeh (Model 1)"
      ],
      "metadata": {
        "id": "lBENLwT6r-v1"
      }
    },
    {
      "cell_type": "code",
      "source": [
        "p = figure(title=\"Model 1 - Price over Time\", x_axis_label='Time', x_axis_type='datetime', y_axis_label='Price')\n",
        "df['Time'] = pd.to_datetime(df['Time'])\n",
        "p.line(df['Time'], df['Price_Model1'], line_width=2)\n",
        "show(p)\n"
      ],
      "metadata": {
        "id": "n-jcjUUYsCsn"
      },
      "execution_count": null,
      "outputs": []
    },
    {
      "cell_type": "markdown",
      "source": [
        "4. Model 2: Demand-Based Pricing"
      ],
      "metadata": {
        "id": "rLSZJr2UsElk"
      }
    },
    {
      "cell_type": "code",
      "source": [
        "# Dummy encoding vehicle types\n",
        "vehicle_weights = {'car': 1.0, 'bike': 0.5, 'truck': 1.5}\n",
        "df['VehicleWeight'] = df['VehicleType'].map(vehicle_weights)\n",
        "\n",
        "# Demand function coefficients\n",
        "α = 1.0\n",
        "β = 0.8\n",
        "γ = 0.5\n",
        "δ = 2.0\n",
        "ε = 1.0\n",
        "λ = 0.3\n",
        "\n",
        "def compute_demand(row):\n",
        "    occ_rate = row['Occupancy'] / row['Capacity']\n",
        "    return α * occ_rate + β * row['QueueLength'] - γ * row['Traffic'] + δ * row['IsSpecialDay'] + ε * row['VehicleWeight']\n",
        "\n",
        "df['Demand'] = df.apply(compute_demand, axis=1)\n",
        "\n",
        "# Normalize demand\n",
        "df['NormDemand'] = (df['Demand'] - df['Demand'].min()) / (df['Demand'].max() - df['Demand'].min())\n",
        "\n",
        "# Pricing function\n",
        "df['Price_Model2'] = BASE_PRICE * (1 + λ * df['NormDemand'])\n",
        "\n",
        "# Bound prices between 0.5x and 2x base\n",
        "df['Price_Model2'] = df['Price_Model2'].clip(lower=BASE_PRICE * 0.5, upper=BASE_PRICE * 2)\n",
        "\n",
        "df[['Time', 'Price_Model2']].head()\n"
      ],
      "metadata": {
        "id": "bf3PpLg-sHCC"
      },
      "execution_count": null,
      "outputs": []
    },
    {
      "cell_type": "markdown",
      "source": [
        " 5. Visualization (Model 2)"
      ],
      "metadata": {
        "id": "7h8AH4C0sItZ"
      }
    },
    {
      "cell_type": "code",
      "source": [
        "p2 = figure(title=\"Model 2 - Demand-Based Price\", x_axis_type='datetime', x_axis_label='Time', y_axis_label='Price')\n",
        "p2.line(df['Time'], df['Price_Model2'], color='green', line_width=2)\n",
        "show(p2)\n"
      ],
      "metadata": {
        "id": "I2dqTeDXsK3_"
      },
      "execution_count": null,
      "outputs": []
    },
    {
      "cell_type": "markdown",
      "source": [
        "6. Model 3 - Competitive Pricing Using Location"
      ],
      "metadata": {
        "id": "Xu86z3xDsMT4"
      }
    },
    {
      "cell_type": "code",
      "source": [
        "from geopy.distance import geodesic\n",
        "\n",
        "# Calculate distance matrix\n",
        "def compute_distances(df):\n",
        "    location_coords = df.groupby('ParkingLotID')[['Latitude', 'Longitude']].first()\n",
        "    locations = location_coords.index.tolist()\n",
        "    distance_matrix = pd.DataFrame(index=locations, columns=locations)\n",
        "\n",
        "    for i in locations:\n",
        "        for j in locations:\n",
        "            if i != j:\n",
        "                loc_i = location_coords.loc[i]\n",
        "                loc_j = location_coords.loc[j]\n",
        "                dist = geodesic((loc_i['Latitude'], loc_i['Longitude']), (loc_j['Latitude'], loc_j['Longitude'])).meters\n",
        "                distance_matrix.loc[i, j] = dist\n",
        "            else:\n",
        "                distance_matrix.loc[i, j] = 0.0\n",
        "    return distance_matrix.astype(float)\n",
        "\n",
        "distance_matrix = compute_distances(df)\n",
        "distance_matrix.head()\n"
      ],
      "metadata": {
        "id": "epVCw8YtsR_q"
      },
      "execution_count": null,
      "outputs": []
    },
    {
      "cell_type": "markdown",
      "source": [
        " 7. Real-Time Simulation with Pathway"
      ],
      "metadata": {
        "id": "DGUp7O93sT22"
      }
    },
    {
      "cell_type": "code",
      "source": [
        "# Simulate streaming using Pathway (basic structure)\n",
        "class StreamingPricingModel(pw.Schema):\n",
        "    time = pw.TimestampColumn()\n",
        "    lot_id = pw.StringColumn()\n",
        "    occupancy = pw.IntColumn()\n",
        "    capacity = pw.IntColumn()\n",
        "    queue_length = pw.IntColumn()\n",
        "    traffic = pw.FloatColumn()\n",
        "    is_special_day = pw.BoolColumn()\n",
        "    vehicle_type = pw.StringColumn()\n",
        "    price = pw.FloatColumn()\n",
        "\n",
        "# This would be connected to a real-time source in full application\n",
        "# Here, use batched feeding as simulation\n"
      ],
      "metadata": {
        "id": "90uQm7HUsWU_"
      },
      "execution_count": null,
      "outputs": []
    },
    {
      "cell_type": "markdown",
      "source": [
        "8. Final Combined Visualization (Model 1 vs 2)"
      ],
      "metadata": {
        "id": "ak60JT2gsZlQ"
      }
    },
    {
      "cell_type": "code",
      "source": [
        "p3 = figure(title=\"Comparison of Models\", x_axis_type='datetime', x_axis_label='Time', y_axis_label='Price')\n",
        "p3.line(df['Time'], df['Price_Model1'], legend_label=\"Model 1\", line_width=2, color='blue')\n",
        "p3.line(df['Time'], df['Price_Model2'], legend_label=\"Model 2\", line_width=2, color='green')\n",
        "p3.legend.location = \"top_left\"\n",
        "show(p3)\n"
      ],
      "metadata": {
        "id": "guEEJmXfsaS6"
      },
      "execution_count": null,
      "outputs": []
    },
    {
      "cell_type": "code",
      "metadata": {
        "id": "tB7qpic5TOcW"
      },
      "source": [
        "import pathway as pw\n",
        "\n",
        "class DataSchema(pw.Schema):\n",
        "    SystemCodeNumber: str\n",
        "    Capacity: int\n",
        "    Latitude: float\n",
        "    Longitude: float\n",
        "    Occupancy: int\n",
        "    VehicleType: str\n",
        "    TrafficConditionNearby: str\n",
        "    QueueLength: int\n",
        "    IsSpecialDay: int\n",
        "    LastUpdatedDate: str\n",
        "    LastUpdatedTime: str\n",
        "    Timestamp: str\n",
        "\n",
        "# Read the streamed data\n",
        "t = pw.io.csv.read(\"streamed_data.csv\", schema=DataSchema, mode=\"streaming\", autocommit_duration_ms=200)\n",
        "\n",
        "# Select a few columns without applying any UDF (keeping the simplified version for now)\n",
        "result = t.select(\n",
        "    t.Timestamp,\n",
        "    t.SystemCodeNumber,\n",
        "    t.Occupancy\n",
        ")\n",
        "\n",
        "# Write the result to a CSV file\n",
        "pw.io.csv.write(result, \"output.csv\")\n",
        "\n",
        "# Run the Pathway program\n",
        "pw.run_local()"
      ],
      "execution_count": null,
      "outputs": []
    }
  ]
}